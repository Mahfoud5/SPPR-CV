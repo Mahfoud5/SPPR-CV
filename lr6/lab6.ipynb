{
 "cells": [
  {
   "cell_type": "markdown",
   "metadata": {},
   "source": [
    "# ЛР 6"
   ]
  },
  {
   "cell_type": "markdown",
   "metadata": {},
   "source": [
    "ухудшаем качество фоток:"
   ]
  },
  {
   "cell_type": "code",
   "execution_count": 1,
   "metadata": {},
   "outputs": [],
   "source": [
    "from PIL import Image\n",
    "import os\n",
    "\n",
    "directory = 'new_images'  # Папка с изображениями\n",
    "\n",
    "for filename in os.listdir(directory):\n",
    "    if filename.endswith('.jpg') or filename.endswith('.png'):  # Фильтрация файлов по форматам изображений\n",
    "        filepath = os.path.join(directory, filename)\n",
    "        img = Image.open(filepath)\n",
    "        width_percent = 400 / float(img.size[0])  # Рассчитываем процентное соотношение изменения размера\n",
    "        height_size = int(float(img.size[1]) * float(width_percent))  # Рассчитываем высоту пропорционально ширине 150 пикселей\n",
    "        img = img.resize((400, height_size), Image.LANCZOS)  # Изменяем размер изображения\n",
    "        img.save('worse_images/' + filename)  # Сохраняем измененное изображение обратно в файл\n"
   ]
  },
  {
   "cell_type": "code",
   "execution_count": 2,
   "metadata": {},
   "outputs": [
    {
     "name": "stderr",
     "output_type": "stream",
     "text": [
      "100%|████████████████████████████████████████████████████████████████████████████████████| 7/7 [00:00<00:00,  8.10it/s]\n"
     ]
    }
   ],
   "source": [
    "import cv2\n",
    "import os\n",
    "from tqdm import tqdm\n",
    "\n",
    "# Функция для извлечения SIFT-дескрипторов и сохранения их в файле .sift\n",
    "def extract_sift_descriptors(image_path):\n",
    "    # Чтение изображения\n",
    "    image = cv2.imread(image_path, cv2.IMREAD_GRAYSCALE)\n",
    "\n",
    "    # Инициализация детектора и описателя SIFT\n",
    "    sift = cv2.SIFT_create()\n",
    "\n",
    "    # Обнаружение ключевых точек и вычисление дескрипторов\n",
    "    keypoints, descriptors = sift.detectAndCompute(image, None)\n",
    "\n",
    "    # Получение имени файла без расширения\n",
    "    filename = os.path.splitext(image_path)[0]\n",
    "\n",
    "    # Сохранение дескрипторов в файле .sift\n",
    "    sift_filename = f\"{filename}.sift\"\n",
    "    with open(sift_filename, 'w') as file:\n",
    "        for descriptor in descriptors:\n",
    "            descriptor_line = ' '.join([str(value) for value in descriptor])\n",
    "            file.write(f\"{descriptor_line}\\n\")\n",
    "\n",
    "# Путь к папке с изображениями\n",
    "folder_path = 'worse_images/'\n",
    "\n",
    "# Получение списка файлов изображений в папке\n",
    "image_files = [os.path.join(folder_path, file) for file in os.listdir(folder_path) if file.endswith('.jpg')]\n",
    "\n",
    "# Извлечение SIFT-дескрипторов для каждого изображения\n",
    "for image_file in tqdm(image_files):\n",
    "    extract_sift_descriptors(image_file)\n"
   ]
  },
  {
   "cell_type": "code",
   "execution_count": 3,
   "metadata": {},
   "outputs": [],
   "source": [
    "import os\n",
    "\n",
    "# Путь к папке с изображениями\n",
    "folder_path = 'worse_images/'\n",
    "\n",
    "# Получение списка файлов изображений в папке\n",
    "image_files = [file for file in os.listdir(folder_path) if file.endswith('.jpg')]\n",
    "\n",
    "# Создание списка имен файлов изображений\n",
    "imlist = [os.path.join(folder_path, file) for file in image_files]\n"
   ]
  },
  {
   "cell_type": "code",
   "execution_count": 4,
   "metadata": {},
   "outputs": [
    {
     "data": {
      "text/plain": [
       "['worse_images/image_1.jpg',\n",
       " 'worse_images/image_2.jpg',\n",
       " 'worse_images/image_3.jpg',\n",
       " 'worse_images/image_4.jpg',\n",
       " 'worse_images/image_5.jpg',\n",
       " 'worse_images/image_6.jpg',\n",
       " 'worse_images/image_7.jpg']"
      ]
     },
     "execution_count": 4,
     "metadata": {},
     "output_type": "execute_result"
    }
   ],
   "source": [
    "imlist"
   ]
  },
  {
   "cell_type": "code",
   "execution_count": 5,
   "metadata": {},
   "outputs": [
    {
     "name": "stdout",
     "output_type": "stream",
     "text": [
      "worse_images/image_1.sift worse_images/image_2.sift\n",
      "Число соответствий = 3 \n",
      "\n",
      "worse_images/image_1.sift worse_images/image_3.sift\n",
      "Число соответствий = 9 \n",
      "\n",
      "worse_images/image_1.sift worse_images/image_4.sift\n",
      "Число соответствий = 4 \n",
      "\n",
      "worse_images/image_1.sift worse_images/image_5.sift\n",
      "Число соответствий = 5 \n",
      "\n",
      "worse_images/image_1.sift worse_images/image_6.sift\n",
      "Число соответствий = 5 \n",
      "\n",
      "worse_images/image_1.sift worse_images/image_7.sift\n",
      "Число соответствий = 3 \n",
      "\n",
      "worse_images/image_2.sift worse_images/image_3.sift\n",
      "Число соответствий = 12 \n",
      "\n",
      "worse_images/image_2.sift worse_images/image_4.sift\n",
      "Число соответствий = 8 \n",
      "\n",
      "worse_images/image_2.sift worse_images/image_5.sift\n",
      "Число соответствий = 6 \n",
      "\n",
      "worse_images/image_2.sift worse_images/image_6.sift\n",
      "Число соответствий = 8 \n",
      "\n",
      "worse_images/image_2.sift worse_images/image_7.sift\n",
      "Число соответствий = 14 \n",
      "\n",
      "worse_images/image_3.sift worse_images/image_4.sift\n",
      "Число соответствий = 3 \n",
      "\n",
      "worse_images/image_3.sift worse_images/image_5.sift\n",
      "Число соответствий = 4 \n",
      "\n",
      "worse_images/image_3.sift worse_images/image_6.sift\n",
      "Число соответствий = 2 \n",
      "\n",
      "worse_images/image_3.sift worse_images/image_7.sift\n",
      "Число соответствий = 4 \n",
      "\n",
      "worse_images/image_4.sift worse_images/image_5.sift\n",
      "Число соответствий = 20 \n",
      "\n",
      "worse_images/image_4.sift worse_images/image_6.sift\n",
      "Число соответствий = 9 \n",
      "\n",
      "worse_images/image_4.sift worse_images/image_7.sift\n",
      "Число соответствий = 41 \n",
      "\n",
      "worse_images/image_5.sift worse_images/image_6.sift\n",
      "Число соответствий = 7 \n",
      "\n",
      "worse_images/image_5.sift worse_images/image_7.sift\n",
      "Число соответствий = 10 \n",
      "\n",
      "worse_images/image_6.sift worse_images/image_7.sift\n",
      "Число соответствий = 14 \n",
      "\n"
     ]
    }
   ],
   "source": [
    "import cv2\n",
    "import numpy as np\n",
    "import os\n",
    "\n",
    "# Путь к папке с файлами .sift\n",
    "sift_folder_path = 'worse_images/'\n",
    "\n",
    "# Получение списка файлов .sift\n",
    "sift_files = [file for file in os.listdir(sift_folder_path) if file.endswith('.sift')]\n",
    "\n",
    "# Чтение дескрипторов и сопоставление\n",
    "nbr_images = len(sift_files)\n",
    "matchscores = np.zeros((nbr_images, nbr_images))\n",
    "\n",
    "for i in range(nbr_images):\n",
    "    for j in range(i + 1, nbr_images):\n",
    "        sift_filename1 = os.path.join(sift_folder_path, sift_files[i])\n",
    "        sift_filename2 = os.path.join(sift_folder_path, sift_files[j])\n",
    "\n",
    "        # Чтение дескрипторов из файлов .sift\n",
    "        with open(sift_filename1, 'r') as file:\n",
    "            d1 = np.array([[float(num) for num in line.split()] for line in file.readlines()])\n",
    "        with open(sift_filename2, 'r') as file:\n",
    "            d2 = np.array([[float(num) for num in line.split()] for line in file.readlines()])\n",
    "\n",
    "        print(sift_filename1, sift_filename2)\n",
    "        d1 = d1.astype(np.float32)\n",
    "        d2 = d2.astype(np.float32)\n",
    "        # Сопоставление дескрипторов\n",
    "        bf = cv2.BFMatcher()\n",
    "        matches = bf.knnMatch(d1, d2, k=2)\n",
    "        good_matches = [m for m, n in matches if m.distance < 0.75 * n.distance]\n",
    "        nbr_matches = len(good_matches)\n",
    "        print('Число соответствий =', nbr_matches, '\\n')\n",
    "        matchscores[i, j] = nbr_matches\n",
    "\n",
    "# Копирование значений для нижнего треугольника\n",
    "for i in range(nbr_images):\n",
    "    for j in range(i + 1, nbr_images):\n",
    "        matchscores[j, i] = matchscores[i, j]\n",
    "    matchscores[i, i] = np.inf"
   ]
  },
  {
   "cell_type": "code",
   "execution_count": 6,
   "metadata": {},
   "outputs": [
    {
     "data": {
      "text/plain": [
       "array([[inf,  3.,  9.,  4.,  5.,  5.,  3.],\n",
       "       [ 3., inf, 12.,  8.,  6.,  8., 14.],\n",
       "       [ 9., 12., inf,  3.,  4.,  2.,  4.],\n",
       "       [ 4.,  8.,  3., inf, 20.,  9., 41.],\n",
       "       [ 5.,  6.,  4., 20., inf,  7., 10.],\n",
       "       [ 5.,  8.,  2.,  9.,  7., inf, 14.],\n",
       "       [ 3., 14.,  4., 41., 10., 14., inf]])"
      ]
     },
     "execution_count": 6,
     "metadata": {},
     "output_type": "execute_result"
    }
   ],
   "source": [
    "matchscores"
   ]
  },
  {
   "cell_type": "code",
   "execution_count": 7,
   "metadata": {},
   "outputs": [
    {
     "name": "stdout",
     "output_type": "stream",
     "text": [
      "Requirement already satisfied: pydot-ng in d:\\eds.pcb\\anaconda\\lib\\site-packages (2.0.0)\n",
      "Requirement already satisfied: pyparsing>=2.0.1 in d:\\eds.pcb\\anaconda\\lib\\site-packages (from pydot-ng) (3.0.4)\n"
     ]
    }
   ],
   "source": [
    "!pip install pydot-ng"
   ]
  },
  {
   "cell_type": "code",
   "execution_count": 8,
   "metadata": {},
   "outputs": [
    {
     "name": "stdout",
     "output_type": "stream",
     "text": [
      "Requirement already satisfied: graphviz in d:\\eds.pcb\\anaconda\\lib\\site-packages (0.20.1)\n"
     ]
    }
   ],
   "source": [
    "!pip install graphviz"
   ]
  },
  {
   "cell_type": "code",
   "execution_count": 26,
   "metadata": {},
   "outputs": [],
   "source": [
    "path='C://Users/Вера/Downloads/comp_vision/lr6/worse_images/'\n",
    "\n",
    "import pydot\n",
    "from PIL import Image\n",
    "import os\n",
    "\n",
    "threshold = 25\n",
    "g = pydot.Dot(graph_type='graph')\n",
    "\n",
    "# Добавление изображений к узлам\n",
    "for i in range(nbr_images):\n",
    "    for j in range(i + 1, nbr_images):\n",
    "        if matchscores[i, j] > threshold:\n",
    "            # Получение имен файлов\n",
    "            filename1 = os.path.basename(imlist[i])  # Имя файла первого изображения\n",
    "            filename2 = os.path.basename(imlist[j])  # Имя файла второго изображения\n",
    "\n",
    "            # Создание узлов с текстовыми значениями\n",
    "            g.add_node(pydot.Node(str(i), fontcolor='black', shape='rectangle', label=filename1))\n",
    "            g.add_node(pydot.Node(str(j), fontcolor='black', shape='rectangle', label=filename2))\n",
    "\n",
    "            # Добавление ребра между узлами\n",
    "            g.add_edge(pydot.Edge(str(i), str(j)))\n",
    "\n",
    "# Сохранение графа как PNG\n",
    "g.write_png('result.png')\n"
   ]
  },
  {
   "cell_type": "code",
   "execution_count": 28,
   "metadata": {},
   "outputs": [],
   "source": [
    "import pydot\n",
    "from PIL import Image  # Import Image from PIL module\n",
    "\n",
    "threshold = 10  # мин. число соответствий для создания ребра\n",
    "g = pydot.Dot(graph_type='graph')  # не нужно строить ориентированный граф, как предполагается по умолчанию\n",
    "\n",
    "for i in range(nbr_images):\n",
    "    for j in range(i + 1, nbr_images):\n",
    "        if matchscores[i, j] > threshold:\n",
    "            # первое изображение в паре\n",
    "            im = Image.open(os.path.join(path,imlist[i].split('/')[1]))\n",
    "            im.thumbnail((100, 100))\n",
    "            filename = str(i) + '__.png'\n",
    "            im.save(path+filename)  # нужны временные файлы подходящего размера\n",
    "            g.add_node(pydot.Node(str(i), fontcolor='transparent', shape='rectangle', image=path+filename))\n",
    "\n",
    "            # второе изображение в паре\n",
    "            im = Image.open(imlist[j])\n",
    "            im.thumbnail((100, 100))\n",
    "            filename = str(j) + '__.png'\n",
    "            im.save(path+filename)  # нужны временные файлы подходящего размера\n",
    "            g.add_node(pydot.Node(str(j), fontcolor='transparent', shape='rectangle', image=path+filename))\n",
    "\n",
    "            g.add_edge(pydot.Edge(str(i), str(j)))\n",
    "\n",
    "# Save the graph as PNG\n",
    "g.write_png('result_img.png')\n"
   ]
  },
  {
   "cell_type": "code",
   "execution_count": 20,
   "metadata": {},
   "outputs": [
    {
     "data": {
      "text/plain": [
       "'C:\\\\Users\\\\Вера\\\\Downloads\\\\comp_vision\\\\lr6\\\\worse_images\\\\image_1.jpg'"
      ]
     },
     "execution_count": 20,
     "metadata": {},
     "output_type": "execute_result"
    }
   ],
   "source": [
    "path=r'C:\\Users\\Вера\\Downloads\\comp_vision\\lr6\\worse_images'\n",
    "\n",
    "os.path.join(path,imlist[0].split('/')[1])\n",
    "#imlist[0].split('/')[1]"
   ]
  }
 ],
 "metadata": {
  "kernelspec": {
   "display_name": "Python 3 (ipykernel)",
   "language": "python",
   "name": "python3"
  },
  "language_info": {
   "codemirror_mode": {
    "name": "ipython",
    "version": 3
   },
   "file_extension": ".py",
   "mimetype": "text/x-python",
   "name": "python",
   "nbconvert_exporter": "python",
   "pygments_lexer": "ipython3",
   "version": "3.9.12"
  }
 },
 "nbformat": 4,
 "nbformat_minor": 2
}
